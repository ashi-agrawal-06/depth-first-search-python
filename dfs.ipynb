{
  "nbformat": 4,
  "nbformat_minor": 0,
  "metadata": {
    "colab": {
      "name": "dfs.ipynb",
      "provenance": [],
      "authorship_tag": "ABX9TyON1XmK4hkdEm7Ya1jeKTbH",
      "include_colab_link": true
    },
    "kernelspec": {
      "name": "python3",
      "display_name": "Python 3"
    }
  },
  "cells": [
    {
      "cell_type": "markdown",
      "metadata": {
        "id": "view-in-github",
        "colab_type": "text"
      },
      "source": [
        "<a href=\"https://colab.research.google.com/github/ashi-agrawal-06/depth-first-search-python/blob/main/dfs.ipynb\" target=\"_parent\"><img src=\"https://colab.research.google.com/assets/colab-badge.svg\" alt=\"Open In Colab\"/></a>"
      ]
    },
    {
      "cell_type": "code",
      "metadata": {
        "id": "qKHpXUAxQmpT"
      },
      "source": [
        "\n",
        "#visited = set()\n",
        "\n",
        "\n",
        "def dfs(visited, graph, node):\n",
        "    if node not in visited:\n",
        "        print(node,end='')\n",
        "        visited.add(node)\n",
        "        for neighbour in graph[node]:\n",
        "            dfs(visited, graph, neighbour)\n",
        "#dfs(visited, d, first)"
      ],
      "execution_count": null,
      "outputs": []
    },
    {
      "cell_type": "code",
      "metadata": {
        "id": "HNTeUhdGQott"
      },
      "source": [
        "gr={\n",
        "    'A':['B','C'],\n",
        "    'B':['D','E'],\n",
        "    'D':['H','I'],\n",
        "    'H':['R'],\n",
        "    'I':['S'],\n",
        "    'R':[],\n",
        "    'S':[],\n",
        "    'E':['J','K'],\n",
        "    'J':[],\n",
        "    'K':[],\n",
        "    'C':['F','G'],\n",
        "    'F':['L','M'],\n",
        "    'L':['O'],\n",
        "    'O':['P'],\n",
        "    'P':['Q'],\n",
        "    'Q':[],\n",
        "    'M':['T'],\n",
        "    'T':[],\n",
        "    'C':['G'],\n",
        "    'G':['N'],\n",
        "    'N':['X'],\n",
        "    'X':[]\n",
        "}"
      ],
      "execution_count": null,
      "outputs": []
    },
    {
      "cell_type": "code",
      "metadata": {
        "id": "Rxd_mXdoUPJx",
        "colab": {
          "base_uri": "https://localhost:8080/",
          "height": 408
        },
        "outputId": "cbf24938-ee27-4159-a232-c416c38d4417"
      },
      "source": [
        "d={}\n",
        "count=0\n",
        "while(True):\n",
        "  i=input('Enter key ')\n",
        "  if count==0:\n",
        "    first=i\n",
        "    count+=1\n",
        "  if not i:\n",
        "    break\n",
        "  chi=int(input('Enter no of children: '))\n",
        "  if chi>0:\n",
        "    print('Enter children')\n",
        "  children=[]\n",
        "  for x in range(chi):\n",
        "    children.append(input())\n",
        "  d[i]=children\n",
        "\n",
        "\n",
        "\n"
      ],
      "execution_count": null,
      "outputs": [
        {
          "output_type": "stream",
          "text": [
            "Enter key A\n",
            "Enter no of children: 2\n",
            "Enter children\n",
            "B\n",
            "C\n",
            "Enter key B\n",
            "Enter no of children: 2\n",
            "Enter children\n",
            "D\n",
            "E\n",
            "Enter key C\n",
            "Enter no of children: 1\n",
            "Enter children\n",
            "F\n",
            "Enter key D\n",
            "Enter no of children: 0\n",
            "Enter key E\n",
            "Enter no of children: 1\n",
            "Enter children\n",
            "F\n",
            "Enter key F\n",
            "Enter no of children: 0\n",
            "Enter key \n"
          ],
          "name": "stdout"
        }
      ]
    },
    {
      "cell_type": "code",
      "metadata": {
        "id": "NVAP53TxVlAQ",
        "colab": {
          "base_uri": "https://localhost:8080/",
          "height": 119
        },
        "outputId": "e557649b-f136-412c-8d69-18f06f8b6546"
      },
      "source": [
        "for i in d:\n",
        "  print(i,':',d[i])"
      ],
      "execution_count": null,
      "outputs": [
        {
          "output_type": "stream",
          "text": [
            "A : ['B', 'C']\n",
            "B : ['D', 'E']\n",
            "C : ['F']\n",
            "D : []\n",
            "E : ['F']\n",
            "F : []\n"
          ],
          "name": "stdout"
        }
      ]
    },
    {
      "cell_type": "code",
      "metadata": {
        "id": "kuz0dxVrPgef",
        "colab": {
          "base_uri": "https://localhost:8080/",
          "height": 34
        },
        "outputId": "b112e910-3796-4dcf-b26a-4d721ed5d19d"
      },
      "source": [
        "visited=set()\n",
        "dfs(visited,d,first)\n"
      ],
      "execution_count": null,
      "outputs": [
        {
          "output_type": "stream",
          "text": [
            "ABDEFC"
          ],
          "name": "stdout"
        }
      ]
    },
    {
      "cell_type": "code",
      "metadata": {
        "id": "yqEtWPfETp7H"
      },
      "source": [
        "first"
      ],
      "execution_count": null,
      "outputs": []
    },
    {
      "cell_type": "code",
      "metadata": {
        "id": "2s5eHnXVXMvV"
      },
      "source": [
        ""
      ],
      "execution_count": null,
      "outputs": []
    }
  ]
}